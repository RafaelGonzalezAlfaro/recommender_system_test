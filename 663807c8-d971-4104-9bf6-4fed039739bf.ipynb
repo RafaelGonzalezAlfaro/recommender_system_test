{
 "cells": [
  {
   "cell_type": "markdown",
   "metadata": {},
   "source": [
    "# introducción"
   ]
  },
  {
   "cell_type": "markdown",
   "metadata": {},
   "source": [
    "Has recibido una tarea analítica de una tienda en línea internacional. Tus predecesores no consiguieron completarla: lanzaron una prueba A/B y luego abandonaron (para iniciar una granja de sandías en Brasil). Solo dejaron las especificaciones técnicas y los resultados de las pruebas.\n",
    "\n",
    "El objetivo de este analisis es evaluar la efectividad de las pruebas A/B realizadas por el equipo anterior, para asi determinar si hubo diferencias significativas en el comportamiento de los usuarios entre los grupos A y B en las pruebas que se mencionan:\n",
    "\n",
    "- recommender_system_test\n",
    "- interface_eu_test\n",
    "\n",
    "Tambien se debe analizar la influencia de campañas de marketing al probar cambios relacionados con la introducción de un sistema de recomendaciones mejorada y evaluar la distribución geográfica, dispositivo utilizado y actividad para detectar posibles sesgos en la asignación de grupos."
   ]
  },
  {
   "cell_type": "code",
   "execution_count": 1,
   "metadata": {},
   "outputs": [],
   "source": [
    "# Cargamos todas las librerías\n",
    "import pandas as pd\n",
    "import numpy as np\n",
    "import math as mt \n",
    "import matplotlib.pyplot as plt\n",
    "import seaborn as sns\n",
    "import statistics as stat\n",
    "import plotly.express as px \n",
    "from scipy import stats as st\n",
    "from math import factorial\n",
    "from statsmodels.stats.proportion import proportions_ztest"
   ]
  },
  {
   "cell_type": "code",
   "execution_count": 2,
   "metadata": {},
   "outputs": [],
   "source": [
    "#Leemos todos los dataframes y los asignamos en variables\n",
    "ab_project = pd.read_csv('/datasets/ab_project_marketing_events_us.csv',sep=',')\n",
    "ab_new_users = pd.read_csv('/datasets/final_ab_new_users_upd_us.csv',sep=',')\n",
    "ab_events = pd.read_csv('/datasets/final_ab_events_upd_us.csv',sep=',')\n",
    "ab_participants = pd.read_csv('/datasets/final_ab_participants_upd_us.csv',sep=',')"
   ]
  },
  {
   "cell_type": "markdown",
   "metadata": {},
   "source": [
    "# Explorando los datos"
   ]
  },
  {
   "cell_type": "code",
   "execution_count": 3,
   "metadata": {},
   "outputs": [
    {
     "name": "stdout",
     "output_type": "stream",
     "text": [
      "<class 'pandas.core.frame.DataFrame'>\n",
      "RangeIndex: 14 entries, 0 to 13\n",
      "Data columns (total 4 columns):\n",
      " #   Column     Non-Null Count  Dtype \n",
      "---  ------     --------------  ----- \n",
      " 0   name       14 non-null     object\n",
      " 1   regions    14 non-null     object\n",
      " 2   start_dt   14 non-null     object\n",
      " 3   finish_dt  14 non-null     object\n",
      "dtypes: object(4)\n",
      "memory usage: 576.0+ bytes\n",
      "\n",
      "                           name                   regions    start_dt  \\\n",
      "0      Christmas&New Year Promo             EU, N.America  2020-12-25   \n",
      "1  St. Valentine's Day Giveaway  EU, CIS, APAC, N.America  2020-02-14   \n",
      "2        St. Patric's Day Promo             EU, N.America  2020-03-17   \n",
      "3                  Easter Promo  EU, CIS, APAC, N.America  2020-04-12   \n",
      "4             4th of July Promo                 N.America  2020-07-04   \n",
      "\n",
      "    finish_dt  \n",
      "0  2021-01-03  \n",
      "1  2020-02-16  \n",
      "2  2020-03-19  \n",
      "3  2020-04-19  \n",
      "4  2020-07-11  \n",
      "\n",
      "name         0\n",
      "regions      0\n",
      "start_dt     0\n",
      "finish_dt    0\n",
      "dtype: int64\n",
      "\n",
      "                             name regions    start_dt   finish_dt\n",
      "count                          14      14          14          14\n",
      "unique                         14       6          14          14\n",
      "top     Black Friday Ads Campaign    APAC  2020-07-04  2020-04-19\n",
      "freq                            1       4           1           1\n",
      "\n",
      "Valores duplicados:  0\n"
     ]
    }
   ],
   "source": [
    "#Hechamos un vistazo rapido a 'ab_project'\n",
    "ab_project.info()\n",
    "print()\n",
    "print(ab_project.head())\n",
    "print()\n",
    "print(ab_project.isna().sum())\n",
    "print()\n",
    "print(ab_project.describe())\n",
    "print()\n",
    "# Encontramos duplicados considerando todas las columnas\n",
    "print(\"Valores duplicados: \", ab_project.duplicated(subset=ab_project.columns, keep=False).sum())  # keep=False marca todos los duplicado\n"
   ]
  },
  {
   "cell_type": "markdown",
   "metadata": {},
   "source": [
    "deacuerdo al vistazo rápido de nuestro dataframe project, podemos observar que no tenemos valores ausentes ni duplicados, sin embargo, para cuestiones de análisis en los siguientes pasos, debemos cambiar el tipo de datos para las columnas 'start_dt' y 'finish_dt' ya que se encuentran en tipo Objeto"
   ]
  },
  {
   "cell_type": "code",
   "execution_count": 4,
   "metadata": {},
   "outputs": [
    {
     "name": "stdout",
     "output_type": "stream",
     "text": [
      "<class 'pandas.core.frame.DataFrame'>\n",
      "RangeIndex: 58703 entries, 0 to 58702\n",
      "Data columns (total 4 columns):\n",
      " #   Column      Non-Null Count  Dtype \n",
      "---  ------      --------------  ----- \n",
      " 0   user_id     58703 non-null  object\n",
      " 1   first_date  58703 non-null  object\n",
      " 2   region      58703 non-null  object\n",
      " 3   device      58703 non-null  object\n",
      "dtypes: object(4)\n",
      "memory usage: 1.8+ MB\n",
      "\n",
      "            user_id  first_date     region   device\n",
      "0  D72A72121175D8BE  2020-12-07         EU       PC\n",
      "1  F1C668619DFE6E65  2020-12-07  N.America  Android\n",
      "2  2E1BF1D4C37EA01F  2020-12-07         EU       PC\n",
      "3  50734A22C0C63768  2020-12-07         EU   iPhone\n",
      "4  E1BDDCE0DAFA2679  2020-12-07  N.America   iPhone\n",
      "\n",
      "user_id       0\n",
      "first_date    0\n",
      "region        0\n",
      "device        0\n",
      "dtype: int64\n",
      "\n",
      "                 user_id  first_date region   device\n",
      "count              58703       58703  58703    58703\n",
      "unique             58703          17      4        4\n",
      "top     3B9646C78ABD0730  2020-12-21     EU  Android\n",
      "freq                   1        6077  43396    26159\n",
      "\n",
      "Valores duplicados:  0\n"
     ]
    }
   ],
   "source": [
    "#Hechamos un vistazo rapido a 'ab_new_users'\n",
    "ab_new_users.info()\n",
    "print()\n",
    "print(ab_new_users.head())\n",
    "print()\n",
    "print(ab_new_users.isna().sum())\n",
    "print()\n",
    "print(ab_new_users.describe())\n",
    "print()\n",
    "# Encontramos duplicados considerando todas las columnas\n",
    "print(\"Valores duplicados: \", ab_new_users.duplicated(subset=ab_new_users.columns, keep=False).sum())  # keep=False marca todos los duplicado\n"
   ]
  },
  {
   "cell_type": "markdown",
   "metadata": {},
   "source": [
    "deacuerdo al vistazo rápido de nuestro dataframe ab_new_users, podemos observar que no tenemos valores ausentes ni duplicados, sin embargo, para cuestiones de análisis en los siguientes pasos, debemos cambiar el tipo de datos para la columna 'first_date' ya que se encuentra en tipo Objeto"
   ]
  },
  {
   "cell_type": "code",
   "execution_count": 5,
   "metadata": {},
   "outputs": [
    {
     "name": "stdout",
     "output_type": "stream",
     "text": [
      "<class 'pandas.core.frame.DataFrame'>\n",
      "RangeIndex: 423761 entries, 0 to 423760\n",
      "Data columns (total 4 columns):\n",
      " #   Column      Non-Null Count   Dtype  \n",
      "---  ------      --------------   -----  \n",
      " 0   user_id     423761 non-null  object \n",
      " 1   event_dt    423761 non-null  object \n",
      " 2   event_name  423761 non-null  object \n",
      " 3   details     60314 non-null   float64\n",
      "dtypes: float64(1), object(3)\n",
      "memory usage: 12.9+ MB\n",
      "\n",
      "            user_id             event_dt event_name  details\n",
      "0  E1BDDCE0DAFA2679  2020-12-07 20:22:03   purchase    99.99\n",
      "1  7B6452F081F49504  2020-12-07 09:22:53   purchase     9.99\n",
      "2  9CD9F34546DF254C  2020-12-07 12:59:29   purchase     4.99\n",
      "3  96F27A054B191457  2020-12-07 04:02:40   purchase     4.99\n",
      "4  1FD7660FDF94CA1F  2020-12-07 10:15:09   purchase     4.99\n",
      "\n",
      "user_id            0\n",
      "event_dt           0\n",
      "event_name         0\n",
      "details       363447\n",
      "dtype: int64\n",
      "\n",
      "            details\n",
      "count  60314.000000\n",
      "mean      23.881219\n",
      "std       72.228884\n",
      "min        4.990000\n",
      "25%        4.990000\n",
      "50%        4.990000\n",
      "75%        9.990000\n",
      "max      499.990000\n",
      "\n",
      "Valores duplicados:  0\n"
     ]
    }
   ],
   "source": [
    "#Hechamos un vistazo rapido a 'ab_events'\n",
    "ab_events.info()\n",
    "print()\n",
    "print(ab_events.head())\n",
    "print()\n",
    "print(ab_events.isna().sum())\n",
    "print()\n",
    "print(ab_events.describe())\n",
    "print()\n",
    "# Encontramos duplicados considerando todas las columnas\n",
    "print(\"Valores duplicados: \", ab_events.duplicated(subset=ab_events.columns, keep=False).sum())  # keep=False marca todos los duplicado"
   ]
  },
  {
   "cell_type": "markdown",
   "metadata": {},
   "source": [
    "hechando un vistazo rapido al dataframe de ab_events, la columna 'details' tiene 363,447 valores ausentes, sin embargo, notamos que cuando el evento no es purchase, no cuenta con registo ya que no se concretó una compra.\n",
    "\n",
    "Hay que cambiar los tipos de datos a fechas para la columna 'event_dt'"
   ]
  },
  {
   "cell_type": "code",
   "execution_count": 6,
   "metadata": {},
   "outputs": [
    {
     "name": "stdout",
     "output_type": "stream",
     "text": [
      "<class 'pandas.core.frame.DataFrame'>\n",
      "RangeIndex: 14525 entries, 0 to 14524\n",
      "Data columns (total 3 columns):\n",
      " #   Column   Non-Null Count  Dtype \n",
      "---  ------   --------------  ----- \n",
      " 0   user_id  14525 non-null  object\n",
      " 1   group    14525 non-null  object\n",
      " 2   ab_test  14525 non-null  object\n",
      "dtypes: object(3)\n",
      "memory usage: 340.6+ KB\n",
      "\n",
      "            user_id group                  ab_test\n",
      "0  D1ABA3E2887B6A73     A  recommender_system_test\n",
      "1  A7A3664BD6242119     A  recommender_system_test\n",
      "2  DABC14FDDFADD29E     A  recommender_system_test\n",
      "3  04988C5DF189632E     A  recommender_system_test\n",
      "4  4FF2998A348C484F     A  recommender_system_test\n",
      "\n",
      "user_id    0\n",
      "group      0\n",
      "ab_test    0\n",
      "dtype: int64\n",
      "\n",
      "                 user_id  group            ab_test\n",
      "count              14525  14525              14525\n",
      "unique             13638      2                  2\n",
      "top     DDCEDA0705FF68FB      A  interface_eu_test\n",
      "freq                   2   8214              10850\n",
      "\n",
      "Valores duplicados:  0\n"
     ]
    }
   ],
   "source": [
    "#Hechamos un vistazo rapido a 'ab_participants'\n",
    "ab_participants.info()\n",
    "print()\n",
    "print(ab_participants.head())\n",
    "print()\n",
    "print(ab_participants.isna().sum())\n",
    "print()\n",
    "print(ab_participants.describe())\n",
    "print()\n",
    "# Encontramos duplicados considerando todas las columnas\n",
    "print(\"Valores duplicados: \", ab_participants.duplicated(subset=ab_participants.columns, keep=False).sum())  # keep=False marca todos los duplicado\n"
   ]
  },
  {
   "cell_type": "markdown",
   "metadata": {},
   "source": [
    "deacuerdo al vistazo rápido de nuestro dataframe ab_participants, podemos observar que no tenemos valores ausentes ni duplicados\n",
    "Sin embargo, el metodo Describe() nos arrojó duplicados en user_id: 14,525 de datos totales vs 13,638 user_id únicos. \n",
    "Probablemente los usuarios participaron en múltiples pruebas con diferente grupo, eso puede contaminar nuestros resultados.\n",
    "Vamos a analizar esto mas adelante."
   ]
  },
  {
   "cell_type": "code",
   "execution_count": 7,
   "metadata": {},
   "outputs": [],
   "source": [
    "# Convertimos a datetime\n",
    "ab_project['start_dt'] = pd.to_datetime(ab_project['start_dt'])\n",
    "ab_project['finish_dt'] = pd.to_datetime(ab_project['finish_dt'])\n",
    "ab_new_users['first_date'] = pd.to_datetime(ab_new_users['first_date'])\n",
    "ab_events['event_dt'] = pd.to_datetime(ab_events['event_dt'])"
   ]
  },
  {
   "cell_type": "code",
   "execution_count": 8,
   "metadata": {},
   "outputs": [
    {
     "name": "stdout",
     "output_type": "stream",
     "text": [
      "Usuarios duplicados en el mismo grupo: 446\n",
      "                user_id group  counts\n",
      "1      001064FEAAB631A1     B       2\n",
      "8      00341D8401F0F665     A       2\n",
      "43     00EFA157F7B6E1C4     A       2\n",
      "83     01B9975CAE144B78     A       2\n",
      "96     020A95B66F363AFB     B       2\n",
      "...                 ...   ...     ...\n",
      "13881  FC37CBE8211E02A8     B       2\n",
      "13916  FCF70F6E1871BD78     A       2\n",
      "14004  FE82D7FC50D4155B     A       2\n",
      "14045  FF2174A1AA0EAD20     A       2\n",
      "14050  FF44696E39039D29     A       2\n",
      "\n",
      "[446 rows x 3 columns]\n",
      "Usuarios duplicados en la prueba: 0\n"
     ]
    }
   ],
   "source": [
    "# Identificamos duplicados por user_id y group\n",
    "duplicates_group = ab_participants.groupby(['user_id', 'group']).size().reset_index(name='counts')\n",
    "duplicates_group = duplicates_group[duplicates_group['counts'] > 1]\n",
    "print(f\"Usuarios duplicados en el mismo grupo: {len(duplicates_group)}\")\n",
    "print(duplicates_group)\n",
    "\n",
    "# Identificamos duplicados por user_id y ab_test\n",
    "duplicates_ab = ab_participants.groupby(['user_id', 'ab_test']).size().reset_index(name='counts')\n",
    "duplicates_ab = duplicates_ab[duplicates_ab['counts'] > 1]\n",
    "print(f\"Usuarios duplicados en la prueba: {len(duplicates_ab)}\")\n"
   ]
  },
  {
   "cell_type": "markdown",
   "metadata": {},
   "source": [
    "Una vez analizados los datos que notamos en 'participants', notamos que agrupando por prueba no tenemos duplicados y de los 446 duplicados que se encontrarón al agrupar por grupo son usuarios en diferentes pruebas, esto no afecta los resultados ya que se encuentran en pruebas distintas, no hay necesidad de eliminarlos y 446 refleja menos de un 5% de nuestros datos totales (+14,000 registros)"
   ]
  },
  {
   "cell_type": "markdown",
   "metadata": {},
   "source": [
    "# Análisis exploratorio de datos"
   ]
  },
  {
   "cell_type": "markdown",
   "metadata": {},
   "source": [
    "Primero, necesitamos identificar las etapas del embudo de conversión. estas se encuentran en Events:"
   ]
  },
  {
   "cell_type": "code",
   "execution_count": 9,
   "metadata": {},
   "outputs": [
    {
     "name": "stdout",
     "output_type": "stream",
     "text": [
      "login           182465\n",
      "product_page    120862\n",
      "purchase         60314\n",
      "product_cart     60120\n",
      "Name: event_name, dtype: int64\n"
     ]
    }
   ],
   "source": [
    "print(ab_events['event_name'].value_counts())"
   ]
  },
  {
   "cell_type": "markdown",
   "metadata": {},
   "source": [
    "como podemos ver, el embudo de conversión tendra las siguientes etapas: login, product_page, product_cart, purchase"
   ]
  },
  {
   "cell_type": "code",
   "execution_count": 10,
   "metadata": {},
   "outputs": [
    {
     "name": "stdout",
     "output_type": "stream",
     "text": [
      "                 user_id            event_dt event_name  details\n",
      "0       E1BDDCE0DAFA2679 2020-12-07 20:22:03   purchase    99.99\n",
      "1       7B6452F081F49504 2020-12-07 09:22:53   purchase     9.99\n",
      "2       9CD9F34546DF254C 2020-12-07 12:59:29   purchase     4.99\n",
      "3       96F27A054B191457 2020-12-07 04:02:40   purchase     4.99\n",
      "4       1FD7660FDF94CA1F 2020-12-07 10:15:09   purchase     4.99\n",
      "...                  ...                 ...        ...      ...\n",
      "423756  245E85F65C358E08 2020-12-30 19:35:55      login      NaN\n",
      "423757  9385A108F5A0A7A7 2020-12-30 10:54:15      login      NaN\n",
      "423758  DB650B7559AC6EAC 2020-12-30 10:59:09      login      NaN\n",
      "423759  F80C9BDDEA02E53C 2020-12-30 09:53:39      login      NaN\n",
      "423760  7AEC61159B672CC5 2020-12-30 11:36:13      login      NaN\n",
      "\n",
      "[423761 rows x 4 columns]\n"
     ]
    }
   ],
   "source": [
    "# Combinamos dataframes 'ab_events, ab_participants y ab_new_users' para análisis mas sencillo\n",
    "users_events = ab_events.merge(ab_participants, on='user_id')\n",
    "users_events = users_events.merge(ab_new_users, on='user_id')\n",
    "\n",
    "# Identificamos los eventos relevantes en el embudo y los filtramos\n",
    "funnel_events = ['login', 'product_page', 'product_cart', 'purchase']\n",
    "funnel_data = ab_events[ab_events['event_name'].isin(funnel_events)]\n",
    "\n",
    "print(funnel_data)"
   ]
  },
  {
   "cell_type": "code",
   "execution_count": 11,
   "metadata": {},
   "outputs": [
    {
     "name": "stdout",
     "output_type": "stream",
     "text": [
      "     event_name  unique_users  conversion_rate\n",
      "0         login         58696       100.000000\n",
      "2  product_page         38929       -33.676912\n",
      "1  product_cart         19284       -50.463665\n",
      "3      purchase         19568         1.472724\n"
     ]
    }
   ],
   "source": [
    "# Contamos el número de usuarios en cada etapa del embudo\n",
    "funnel_conversion = funnel_data.groupby('event_name')['user_id'].nunique().reset_index()\n",
    "funnel_conversion.columns = ['event_name', 'unique_users']\n",
    "\n",
    "# Ordenamos los eventos según el orden del embudo\n",
    "funnel_conversion['event_name'] = pd.Categorical(funnel_conversion['event_name'], categories=funnel_events, ordered=True)\n",
    "funnel_conversion = funnel_conversion.sort_values('event_name')\n",
    "\n",
    "# Calculamos la conversión entre etapas Y usamos pct_change para calcular cuánto cambia el número de usuarios entre cada etapa del embudo\n",
    "funnel_conversion['conversion_rate'] = funnel_conversion['unique_users'].pct_change() * 100 \n",
    "funnel_conversion['conversion_rate'].fillna(100, inplace=True) \n",
    "\n",
    "print(funnel_conversion)"
   ]
  },
  {
   "cell_type": "code",
   "execution_count": 12,
   "metadata": {},
   "outputs": [
    {
     "data": {
      "image/png": "[encoded data removed]",
      "text/plain": [
       "<Figure size 800x600 with 1 Axes>"
      ]
     },
     "metadata": {},
     "output_type": "display_data"
    }
   ],
   "source": [
    "funnel_conversion = {\n",
    "    'event_name': ['login', 'product_page', 'product_cart', 'purchase'],\n",
    "    'unique_users': [58696, 38929, 19284, 19568]\n",
    "}\n",
    "\n",
    "# Creamos una grafica de embudo\n",
    "plt.figure(figsize=(8, 6))\n",
    "plt.barh(funnel_conversion['event_name'], funnel_conversion['unique_users'], color=['#1f77b4', '#ff7f0e', '#2ca02c', '#d62728'])\n",
    "plt.xlabel(\"Número de usuarios únicos\")\n",
    "plt.ylabel(\"Etapa del embudo\")\n",
    "plt.title(\"Gráfica de Embudo de Conversión\")\n",
    "plt.gca().invert_yaxis()  # Invierte el eje y para que el embudo tenga el flujo lógico de arriba a abajo\n",
    "plt.show()"
   ]
  },
  {
   "cell_type": "markdown",
   "metadata": {},
   "source": [
    "Deacuerdo al resultado mostrado, podemos analizar que:\n",
    "- **Login:** 58,696 usuarios únicos completaron esta etapa. Al ser la primera etapa, la tasa de conversión es del 100%, osease, todos los usuarios pasan por aqui.\n",
    "\n",
    "- **Product_page:** 38,929 usuarios unicos llegaron a esta etapa, la tasa de conversion del -33.68% nos indica que aproximadamente el 33.68% de los usuarios que se registraron no llegaron a ver una página de producto. Quiza tuvieron una mala experiencia con la pagina, por lo cual no pudieron navegar o simplemente perdieron interés.\n",
    "\n",
    "- **Product_cart:** 19,284 usuarios únicos añadieron un producto al carrito. La tasa de conversión es -50.46% nos dice que casi la mitad de los usuarios que vieron una página de producto no añadieron un producto al carrito. De nuevo, esto nos dice que quiza tuvieron problemas tecnicos con la pagina o simplemente los productos se les hicieron caros.\n",
    "\n",
    "- **Purchase:** 19,568 usuarios únicos realizaron una compra. La tasa de conversión es 1.47% lo cual nos dice que solo un pequeño porcentaje de los usuarios que añadieron un producto al carrito completaron la compra. Quiza algunos usuarios no añadieron el producto al carrito, si no que compraron directamente.\n"
   ]
  },
  {
   "cell_type": "markdown",
   "metadata": {},
   "source": [
    "# ¿El número de eventos por usuario está distribuido equitativamente entre las muestras?"
   ]
  },
  {
   "cell_type": "code",
   "execution_count": 13,
   "metadata": {},
   "outputs": [
    {
     "name": "stdout",
     "output_type": "stream",
     "text": [
      "        count     mean       std  min  25%  50%  75%   max\n",
      "group                                                     \n",
      "A      7874.0  7.45555  4.475159  1.0  4.0  6.0  9.0  40.0\n",
      "B      6205.0  7.11249  4.246201  1.0  4.0  6.0  9.0  36.0\n"
     ]
    },
    {
     "data": {
      "image/png": "[encoded data removed]",
      "text/plain": [
       "<Figure size 1000x600 with 1 Axes>"
      ]
     },
     "metadata": {},
     "output_type": "display_data"
    }
   ],
   "source": [
    "# hacemos un filtro con los datos de eventos de los participantes de la prueba\n",
    "events_with_group = pd.merge(ab_events, ab_participants, on='user_id', how='inner')\n",
    "\n",
    "# Contamos el número de eventos por usuario y comparamos la distribucion de eventos\n",
    "events_per_user = events_with_group.groupby(['user_id', 'group']).size().reset_index(name='event_count')\n",
    "group_event_dist = events_per_user.groupby('group')['event_count']\n",
    "\n",
    "print(group_event_dist.describe())\n",
    "\n",
    "plt.figure(figsize=(10, 6))\n",
    "sns.boxplot(x='group', y='event_count', data=events_per_user)\n",
    "plt.title('Distribución de eventos por usuario en cada grupo')\n",
    "plt.xlabel('Grupo')\n",
    "plt.ylabel('Número de eventos')\n",
    "plt.show()"
   ]
  },
  {
   "cell_type": "markdown",
   "metadata": {},
   "source": [
    "deacuerdo al analisis que hicimos, el grupo A tiene 7,874 usuarios, mientras que el grupo B tiene 6,205 usuarios. Esto nos dice que el grupo A es ligeramente más grande que el grupo B. Sin embargo, esta diferencia no es significativamente grande, por lo que no debería ser un problema significativo para el análisis."
   ]
  },
  {
   "cell_type": "code",
   "execution_count": 14,
   "metadata": {},
   "outputs": [
    {
     "name": "stdout",
     "output_type": "stream",
     "text": [
      "device_type      Desktop      Mobile\n",
      "event_name                          \n",
      "login         100.000000  100.000000\n",
      "product_cart   32.707775   31.956299\n",
      "product_page   65.394927   65.460339\n",
      "purchase       33.429573   33.481279\n"
     ]
    }
   ],
   "source": [
    "# como extra, clasificamos dispositivos en mobile y desktop\n",
    "desktop = ['PC', 'Mac']\n",
    "mobile = ['iPhone', 'Android']\n",
    "\n",
    "\n",
    "users_events['device_type'] = users_events['device'].apply(\n",
    "    lambda x: 'Mobile' if x in mobile else 'Desktop'\n",
    ")\n",
    "\n",
    "# Calculamos tasas de conversión por dispositivo\n",
    "funnel_device_conv = (\n",
    "    users_events.groupby(['device_type', 'event_name'])['user_id']\n",
    "    .nunique()\n",
    "    .unstack(fill_value=0)\n",
    "    .T\n",
    ")\n",
    "\n",
    "funnel_device_conv = (funnel_device_conv / funnel_device_conv.loc['login']) * 100\n",
    "\n",
    "print(funnel_device_conv)"
   ]
  },
  {
   "cell_type": "markdown",
   "metadata": {},
   "source": [
    "deacuerdo a estos resultados podemos observar que las diferencias de conversiones entre movil y desktop son minimas en cada una de las etapas/eventos"
   ]
  },
  {
   "cell_type": "markdown",
   "metadata": {},
   "source": [
    "# ¿Hay usuarios que están presentes en ambas muestras?"
   ]
  },
  {
   "cell_type": "code",
   "execution_count": 15,
   "metadata": {},
   "outputs": [
    {
     "name": "stdout",
     "output_type": "stream",
     "text": [
      "Usuarios en ambos grupos de la misma prueba: 0\n"
     ]
    }
   ],
   "source": [
    "#creamos un filtro que contiene la diferencia de usuario en cada prueba\n",
    "users_diff = users_events.groupby([\"user_id\", \"ab_test\"])[\"group\"].nunique()\n",
    "users_diff = users_diff[users_diff > 1].reset_index()\n",
    "\n",
    "print(f\"Usuarios en ambos grupos de la misma prueba: {len(users_diff)}\")"
   ]
  },
  {
   "cell_type": "markdown",
   "metadata": {},
   "source": [
    "# ¿Cómo se distribuye el número de eventos entre los días?"
   ]
  },
  {
   "cell_type": "code",
   "execution_count": 16,
   "metadata": {},
   "outputs": [
    {
     "data": {
      "image/png": "[encoded data removed]",
      "text/plain": [
       "<Figure size 1200x600 with 1 Axes>"
      ]
     },
     "metadata": {},
     "output_type": "display_data"
    }
   ],
   "source": [
    "# Convertimos event_dt a datetime y extraemos fecha\n",
    "users_events[\"event_date\"] = pd.to_datetime(users_events[\"event_dt\"]).dt.date\n",
    "\n",
    "# creamos un filtro de eventos por día y grupo\n",
    "ab_daily_events = users_events.groupby([\"event_date\", \"group\"]).size().reset_index(name=\"Usuarios\")\n",
    "\n",
    "plt.figure(figsize=(12, 6))\n",
    "sns.lineplot(x=\"event_date\", y=\"Usuarios\", hue=\"group\", data=ab_daily_events)\n",
    "plt.title(\"Eventos de usuarios diarios\")\n",
    "plt.xticks(rotation=45)\n",
    "plt.show()"
   ]
  },
  {
   "cell_type": "markdown",
   "metadata": {},
   "source": [
    "La siguiente gráfica nos muestra la distribución del número de eventos de usuario diarios para los grupos A y B a lo largo del tiempo.Podemos observar que ambos grupos muestran un crecimiento en el número de eventos desde el inicio del periodo hasta alrededor del 21 de diciembre, siendo este dia el pico mas grande de actividad, siendo mas alto en el Grupo A y despues caen considerablemente.\n",
    "Esto nos dice que quiza por las fechas, las compras de ultimo momento son mayores este dia por las fechas festivas siguientes, y posterior a esta fecha ya no hay tantas compras."
   ]
  },
  {
   "cell_type": "markdown",
   "metadata": {},
   "source": [
    "# ¿Hay alguna peculiaridad en los datos que hay que tener en cuenta antes de iniciar la prueba A/B?"
   ]
  },
  {
   "cell_type": "code",
   "execution_count": 17,
   "metadata": {},
   "outputs": [
    {
     "name": "stdout",
     "output_type": "stream",
     "text": [
      "\n",
      "Distribución de usuarios por grupo:\n",
      "ab_test                  group\n",
      "interface_eu_test        A        5467\n",
      "                         B        5383\n",
      "recommender_system_test  A        2747\n",
      "                         B         928\n",
      "dtype: int64\n",
      "Eventos durante toda la campaña: 11473 \n",
      "(11.2% del total)\n"
     ]
    }
   ],
   "source": [
    "# Verificamos la distribución de usuarios entre los grupos\n",
    "users_per_group = ab_participants.groupby([\"ab_test\", \"group\"]).size()\n",
    "print(\"\\nDistribución de usuarios por grupo:\")\n",
    "print(users_per_group)\n",
    "    \n",
    "# Filtramos eventos durante la campaña\n",
    "eventos_campaña = users_events[(users_events[\"event_date\"] >= pd.to_datetime(\"2020-12-25\")) & (users_events[\"event_date\"] <= pd.to_datetime(\"2021-01-03\"))\n",
    "]\n",
    "\n",
    "print(f\"Eventos durante toda la campaña: {len(eventos_campaña)} \\n({len(eventos_campaña)/len(users_events)*100:.1f}% del total)\")"
   ]
  },
  {
   "cell_type": "markdown",
   "metadata": {},
   "source": [
    "# Evaluar los resultados de la prueba A/B:"
   ]
  },
  {
   "cell_type": "markdown",
   "metadata": {},
   "source": [
    "## ¿Qué puedes decir sobre los resultados de la prueba A/B?\n"
   ]
  },
  {
   "cell_type": "markdown",
   "metadata": {},
   "source": [
    "Deacuerdo a la información previa , podemos observar un gran desequilibrio de datos entre el Grupo A y B de la prueba **recommender_system_test**. Mientras que en **interface_eu_test** muestra una distribución bastante equilibrada entre los grupos A y B. Por lo cual podemos continuar con la prueba A/B con este modelo. Para **recommender_system_test** el desequilibrio puede sesgar los resultados, por lo cual se recomienda reequilibrar los grupos o recolectar más datos para el grupo B antes de analizar los resultados. En el caso de los eventos, solo el 11.2% de los eventos ocurrieron durante el periodo navideño, Esto es muy importante y se debe considerar ya que el comportamiento del usuario puede cambiar significativamente durante las vacaciones."
   ]
  },
  {
   "cell_type": "markdown",
   "metadata": {},
   "source": [
    "## Utiliza una prueba z para comprobar la diferencia estadística entre las proporciones."
   ]
  },
  {
   "cell_type": "code",
   "execution_count": 18,
   "metadata": {},
   "outputs": [
    {
     "name": "stdout",
     "output_type": "stream",
     "text": [
      "\n",
      "Resultados de la prueba z para login:\n",
      "Conversiones Grupo A: 2747 de 2747\n",
      "Conversiones Grupo B: 927 de 928\n",
      "Estadística z: 1.7207\n",
      "Valor p: 0.0853\n",
      "No significativo\n",
      "\n",
      "Resultados de la prueba z para product_page:\n",
      "Conversiones Grupo A: 1780 de 2747\n",
      "Conversiones Grupo B: 523 de 928\n",
      "Estadística z: 4.5958\n",
      "Valor p: 0.0000\n",
      "Significativo\n",
      "\n",
      "Resultados de la prueba z para product_cart:\n",
      "Conversiones Grupo A: 824 de 2747\n",
      "Conversiones Grupo B: 255 de 928\n",
      "Estadística z: 1.4562\n",
      "Valor p: 0.1453\n",
      "No significativo\n",
      "\n",
      "Resultados de la prueba z para purchase:\n",
      "Conversiones Grupo A: 872 de 2747\n",
      "Conversiones Grupo B: 256 de 928\n",
      "Estadística z: 2.3741\n",
      "Valor p: 0.0176\n",
      "Significativo\n"
     ]
    }
   ],
   "source": [
    "# hacemos un filtro donde solo tengamos usuarios de la prueba recommender_system_test\n",
    "events_filt = users_events[users_events['ab_test'] == 'recommender_system_test']\n",
    "\n",
    "# Función para calcular las conversiones para un evento dado en ambos grupos\n",
    "\n",
    "def c_conversions(event_name):\n",
    "    conversion_A = events_filt[(events_filt['group'] == 'A') & (events_filt['event_name'] == event_name)]['user_id'].nunique()\n",
    "    conversion_B = events_filt[(events_filt['group'] == 'B') & (events_filt['event_name'] == event_name)]['user_id'].nunique()\n",
    "\n",
    "    n_A = events_filt[events_filt['group'] == 'A']['user_id'].nunique()\n",
    "    n_B = events_filt[events_filt['group'] == 'B']['user_id'].nunique()\n",
    "\n",
    "    return [conversion_A, conversion_B], [n_A, n_B]\n",
    "\n",
    "# prueba z de dos proporciones.\n",
    "alpha = 0.05  # Nivel de significación\n",
    "events = ['login', 'product_page', 'product_cart', 'purchase']\n",
    "\n",
    "\n",
    "for event in events:\n",
    "    conversions, nobs = c_conversions(event)\n",
    "    z_stat, p_value = proportions_ztest(conversions, nobs)\n",
    "\n",
    "\n",
    "    print(f\"\\nResultados de la prueba z para {event}:\")\n",
    "    print(f\"Conversiones Grupo A: {conversions[0]} de {nobs[0]}\")\n",
    "    print(f\"Conversiones Grupo B: {conversions[1]} de {nobs[1]}\")\n",
    "    print(f\"Estadística z: {z_stat:.4f}\")\n",
    "    print(f\"Valor p: {p_value:.4f}\")\n",
    "    print(\"Significativo\" if p_value < alpha else \"No significativo\")"
   ]
  },
  {
   "cell_type": "markdown",
   "metadata": {},
   "source": [
    "como conclusiones de la prueba Z y las conversiones de cada evento:\n",
    "\n",
    "- **login**: podemos observar que no hay diferencias significativas entre el grupo A y B en esta etapa, ya que, como se mencionó anteriormente, el 100% de los usuarios pasan por esta etapa.\n",
    "\n",
    "- **product_page**: observamos una diferencia estadísticamente significativa entre los grupos A y B. El grupo A tuvo una tasa de conversión mayor que el grupo B.\n",
    "\n",
    "- **product_cart**: No se observa una diferencia significativa entre los grupos A y B en este evento.\n",
    "\n",
    "- **purchase**: podemos observar una diferencia estadísticamente significativa entre los grupos A y B para el evento purchase. El grupo A tuvo una tasa de conversión mayor que el grupo B.\n",
    "\n",
    "**Cabe destacar, como se mencionó anteriormente**, basarnos en los resultados y sacar conclusiones de este analisis no es correcto, es meramente demostrativo, ya que hay demasiada diferencia en nuestros datos para el grupo B en esta prueba.\n",
    "Como recomendacion nuevamente, hay que restructurar los datos."
   ]
  }
 ],
 "metadata": {
  "ExecuteTimeLog": [
   {
    "duration": 2820,
    "start_time": "2025-02-04T03:06:37.729Z"
   },
   {
    "duration": 446,
    "start_time": "2025-02-04T03:06:40.551Z"
   },
   {
    "duration": 29,
    "start_time": "2025-02-04T03:07:56.709Z"
   },
   {
    "duration": 81,
    "start_time": "2025-02-04T03:11:29.143Z"
   },
   {
    "duration": 260,
    "start_time": "2025-02-04T03:12:18.158Z"
   },
   {
    "duration": 29,
    "start_time": "2025-02-04T03:14:22.600Z"
   },
   {
    "duration": 270,
    "start_time": "2025-02-04T04:00:26.059Z"
   },
   {
    "duration": 859,
    "start_time": "2025-02-04T04:01:07.294Z"
   },
   {
    "duration": 280,
    "start_time": "2025-02-04T04:01:13.902Z"
   },
   {
    "duration": 90,
    "start_time": "2025-02-04T04:18:26.948Z"
   },
   {
    "duration": 870,
    "start_time": "2025-02-04T04:18:38.484Z"
   },
   {
    "duration": 326,
    "start_time": "2025-02-04T04:18:39.356Z"
   },
   {
    "duration": 20,
    "start_time": "2025-02-04T04:18:39.684Z"
   },
   {
    "duration": 91,
    "start_time": "2025-02-04T04:18:39.705Z"
   },
   {
    "duration": 252,
    "start_time": "2025-02-04T04:18:39.799Z"
   },
   {
    "duration": 31,
    "start_time": "2025-02-04T04:18:40.052Z"
   },
   {
    "duration": 90,
    "start_time": "2025-02-04T04:18:40.086Z"
   },
   {
    "duration": 34,
    "start_time": "2025-02-04T04:20:59.897Z"
   },
   {
    "duration": 38,
    "start_time": "2025-02-04T04:24:11.151Z"
   },
   {
    "duration": 33,
    "start_time": "2025-02-04T04:24:23.164Z"
   },
   {
    "duration": 2619,
    "start_time": "2025-02-05T04:21:23.870Z"
   },
   {
    "duration": 405,
    "start_time": "2025-02-05T04:21:26.493Z"
   },
   {
    "duration": 22,
    "start_time": "2025-02-05T04:21:26.900Z"
   },
   {
    "duration": 76,
    "start_time": "2025-02-05T04:21:26.923Z"
   },
   {
    "duration": 260,
    "start_time": "2025-02-05T04:21:27.002Z"
   },
   {
    "duration": 28,
    "start_time": "2025-02-05T04:21:27.264Z"
   },
   {
    "duration": 89,
    "start_time": "2025-02-05T04:21:27.293Z"
   },
   {
    "duration": 42,
    "start_time": "2025-02-05T04:21:27.384Z"
   },
   {
    "duration": 3,
    "start_time": "2025-02-05T04:59:57.857Z"
   },
   {
    "duration": 27,
    "start_time": "2025-02-05T05:03:05.978Z"
   },
   {
    "duration": 28,
    "start_time": "2025-02-05T05:36:45.119Z"
   },
   {
    "duration": 114,
    "start_time": "2025-02-05T05:45:19.010Z"
   },
   {
    "duration": 91,
    "start_time": "2025-02-05T05:47:37.563Z"
   },
   {
    "duration": 114,
    "start_time": "2025-02-05T06:31:42.904Z"
   },
   {
    "duration": 113,
    "start_time": "2025-02-05T06:32:31.213Z"
   },
   {
    "duration": 2645,
    "start_time": "2025-02-06T03:51:24.047Z"
   },
   {
    "duration": 419,
    "start_time": "2025-02-06T03:51:26.695Z"
   },
   {
    "duration": 21,
    "start_time": "2025-02-06T03:51:27.116Z"
   },
   {
    "duration": 94,
    "start_time": "2025-02-06T03:51:27.139Z"
   },
   {
    "duration": 277,
    "start_time": "2025-02-06T03:51:27.236Z"
   },
   {
    "duration": 31,
    "start_time": "2025-02-06T03:51:27.515Z"
   },
   {
    "duration": 87,
    "start_time": "2025-02-06T03:51:27.548Z"
   },
   {
    "duration": 43,
    "start_time": "2025-02-06T03:51:27.637Z"
   },
   {
    "duration": 26,
    "start_time": "2025-02-06T03:51:27.682Z"
   },
   {
    "duration": 144,
    "start_time": "2025-02-06T03:51:27.710Z"
   },
   {
    "duration": 92,
    "start_time": "2025-02-06T03:51:27.856Z"
   },
   {
    "duration": 120,
    "start_time": "2025-02-06T03:51:27.950Z"
   },
   {
    "duration": 90,
    "start_time": "2025-02-06T04:09:26.023Z"
   },
   {
    "duration": 214,
    "start_time": "2025-02-06T04:09:47.090Z"
   },
   {
    "duration": 206,
    "start_time": "2025-02-06T04:18:58.313Z"
   },
   {
    "duration": 210,
    "start_time": "2025-02-06T04:20:11.938Z"
   },
   {
    "duration": 43,
    "start_time": "2025-02-06T04:23:41.469Z"
   },
   {
    "duration": 42,
    "start_time": "2025-02-06T04:24:40.127Z"
   },
   {
    "duration": 317,
    "start_time": "2025-02-06T04:26:49.966Z"
   },
   {
    "duration": 374,
    "start_time": "2025-02-06T04:26:55.799Z"
   },
   {
    "duration": 8,
    "start_time": "2025-02-06T04:28:00.812Z"
   },
   {
    "duration": 329,
    "start_time": "2025-02-06T04:29:11.517Z"
   },
   {
    "duration": 272,
    "start_time": "2025-02-06T04:30:50.897Z"
   },
   {
    "duration": 221,
    "start_time": "2025-02-06T04:31:24.435Z"
   },
   {
    "duration": 16,
    "start_time": "2025-02-06T04:40:41.227Z"
   },
   {
    "duration": 15,
    "start_time": "2025-02-06T04:41:29.563Z"
   },
   {
    "duration": 7,
    "start_time": "2025-02-06T04:41:34.879Z"
   },
   {
    "duration": 19,
    "start_time": "2025-02-06T04:42:34.469Z"
   },
   {
    "duration": 20,
    "start_time": "2025-02-06T04:42:38.488Z"
   },
   {
    "duration": 10,
    "start_time": "2025-02-06T04:42:42.807Z"
   },
   {
    "duration": 10,
    "start_time": "2025-02-06T04:43:49.741Z"
   },
   {
    "duration": 34,
    "start_time": "2025-02-06T04:44:36.390Z"
   },
   {
    "duration": 22,
    "start_time": "2025-02-06T04:44:48.704Z"
   },
   {
    "duration": 20,
    "start_time": "2025-02-06T04:46:31.616Z"
   },
   {
    "duration": 24,
    "start_time": "2025-02-06T04:55:06.549Z"
   },
   {
    "duration": 20,
    "start_time": "2025-02-06T05:06:52.746Z"
   },
   {
    "duration": 82,
    "start_time": "2025-02-06T05:08:21.021Z"
   },
   {
    "duration": 91,
    "start_time": "2025-02-06T05:09:38.301Z"
   },
   {
    "duration": 85,
    "start_time": "2025-02-06T05:11:20.165Z"
   },
   {
    "duration": 9,
    "start_time": "2025-02-06T05:18:05.244Z"
   },
   {
    "duration": 94,
    "start_time": "2025-02-06T05:18:17.182Z"
   },
   {
    "duration": 55,
    "start_time": "2025-02-06T05:27:08.227Z"
   },
   {
    "duration": 137,
    "start_time": "2025-02-06T05:29:30.376Z"
   },
   {
    "duration": 55,
    "start_time": "2025-02-06T05:29:38.992Z"
   },
   {
    "duration": 137,
    "start_time": "2025-02-06T05:29:54.710Z"
   },
   {
    "duration": 68,
    "start_time": "2025-02-06T05:41:13.220Z"
   },
   {
    "duration": 48,
    "start_time": "2025-02-06T05:43:42.175Z"
   },
   {
    "duration": 41,
    "start_time": "2025-02-06T05:44:38.585Z"
   },
   {
    "duration": 68,
    "start_time": "2025-02-06T05:45:07.537Z"
   },
   {
    "duration": 120,
    "start_time": "2025-02-06T06:14:25.057Z"
   },
   {
    "duration": 66,
    "start_time": "2025-02-06T06:14:38.406Z"
   },
   {
    "duration": 7,
    "start_time": "2025-02-06T06:27:02.742Z"
   },
   {
    "duration": 61,
    "start_time": "2025-02-06T06:32:23.269Z"
   },
   {
    "duration": 27,
    "start_time": "2025-02-06T06:32:50.086Z"
   },
   {
    "duration": 46,
    "start_time": "2025-02-06T06:33:00.348Z"
   },
   {
    "duration": 78,
    "start_time": "2025-02-06T06:34:25.147Z"
   },
   {
    "duration": 852,
    "start_time": "2025-02-07T01:43:44.101Z"
   },
   {
    "duration": 390,
    "start_time": "2025-02-07T01:43:44.956Z"
   },
   {
    "duration": 21,
    "start_time": "2025-02-07T01:43:45.348Z"
   },
   {
    "duration": 91,
    "start_time": "2025-02-07T01:43:45.370Z"
   },
   {
    "duration": 242,
    "start_time": "2025-02-07T01:43:45.464Z"
   },
   {
    "duration": 29,
    "start_time": "2025-02-07T01:43:45.708Z"
   },
   {
    "duration": 88,
    "start_time": "2025-02-07T01:43:45.738Z"
   },
   {
    "duration": 33,
    "start_time": "2025-02-07T01:43:45.828Z"
   },
   {
    "duration": 28,
    "start_time": "2025-02-07T01:43:45.863Z"
   },
   {
    "duration": 123,
    "start_time": "2025-02-07T01:43:45.905Z"
   },
   {
    "duration": 92,
    "start_time": "2025-02-07T01:43:46.029Z"
   },
   {
    "duration": 120,
    "start_time": "2025-02-07T01:43:46.123Z"
   },
   {
    "duration": 250,
    "start_time": "2025-02-07T01:43:46.248Z"
   },
   {
    "duration": 43,
    "start_time": "2025-02-07T01:43:46.507Z"
   },
   {
    "duration": 37,
    "start_time": "2025-02-07T01:43:46.552Z"
   },
   {
    "duration": 223,
    "start_time": "2025-02-07T01:43:46.606Z"
   },
   {
    "duration": 251,
    "start_time": "2025-02-07T01:43:46.831Z"
   },
   {
    "duration": 0,
    "start_time": "2025-02-07T01:43:47.084Z"
   },
   {
    "duration": 65,
    "start_time": "2025-02-07T01:46:36.310Z"
   },
   {
    "duration": 165,
    "start_time": "2025-02-07T03:28:11.315Z"
   },
   {
    "duration": 2730,
    "start_time": "2025-02-07T03:28:21.357Z"
   },
   {
    "duration": 439,
    "start_time": "2025-02-07T03:28:24.090Z"
   },
   {
    "duration": 23,
    "start_time": "2025-02-07T03:28:24.531Z"
   },
   {
    "duration": 91,
    "start_time": "2025-02-07T03:28:24.555Z"
   },
   {
    "duration": 282,
    "start_time": "2025-02-07T03:28:24.649Z"
   },
   {
    "duration": 31,
    "start_time": "2025-02-07T03:28:24.932Z"
   },
   {
    "duration": 88,
    "start_time": "2025-02-07T03:28:24.967Z"
   },
   {
    "duration": 36,
    "start_time": "2025-02-07T03:28:25.057Z"
   },
   {
    "duration": 36,
    "start_time": "2025-02-07T03:28:25.096Z"
   },
   {
    "duration": 190,
    "start_time": "2025-02-07T03:28:25.134Z"
   },
   {
    "duration": 140,
    "start_time": "2025-02-07T03:28:25.326Z"
   },
   {
    "duration": 142,
    "start_time": "2025-02-07T03:28:25.468Z"
   },
   {
    "duration": 262,
    "start_time": "2025-02-07T03:28:25.612Z"
   },
   {
    "duration": 41,
    "start_time": "2025-02-07T03:28:25.878Z"
   },
   {
    "duration": 39,
    "start_time": "2025-02-07T03:28:25.921Z"
   },
   {
    "duration": 267,
    "start_time": "2025-02-07T03:28:25.962Z"
   },
   {
    "duration": 30,
    "start_time": "2025-02-07T03:28:26.231Z"
   },
   {
    "duration": 146,
    "start_time": "2025-02-07T03:28:26.263Z"
   },
   {
    "duration": 1023,
    "start_time": "2025-02-07T04:04:16.742Z"
   },
   {
    "duration": 402,
    "start_time": "2025-02-07T04:04:17.768Z"
   },
   {
    "duration": 26,
    "start_time": "2025-02-07T04:04:18.172Z"
   },
   {
    "duration": 85,
    "start_time": "2025-02-07T04:04:18.209Z"
   },
   {
    "duration": 264,
    "start_time": "2025-02-07T04:04:18.298Z"
   },
   {
    "duration": 47,
    "start_time": "2025-02-07T04:04:18.564Z"
   },
   {
    "duration": 77,
    "start_time": "2025-02-07T04:04:18.613Z"
   },
   {
    "duration": 48,
    "start_time": "2025-02-07T04:04:18.692Z"
   },
   {
    "duration": 32,
    "start_time": "2025-02-07T04:04:18.742Z"
   },
   {
    "duration": 149,
    "start_time": "2025-02-07T04:04:18.777Z"
   },
   {
    "duration": 97,
    "start_time": "2025-02-07T04:04:18.928Z"
   },
   {
    "duration": 125,
    "start_time": "2025-02-07T04:04:19.027Z"
   },
   {
    "duration": 340,
    "start_time": "2025-02-07T04:04:19.154Z"
   },
   {
    "duration": 56,
    "start_time": "2025-02-07T04:04:19.498Z"
   },
   {
    "duration": 72,
    "start_time": "2025-02-07T04:04:19.556Z"
   },
   {
    "duration": 304,
    "start_time": "2025-02-07T04:04:19.629Z"
   },
   {
    "duration": 34,
    "start_time": "2025-02-07T04:04:19.935Z"
   },
   {
    "duration": 74,
    "start_time": "2025-02-07T04:04:19.970Z"
   },
   {
    "duration": 813,
    "start_time": "2025-02-08T01:46:09.267Z"
   },
   {
    "duration": 396,
    "start_time": "2025-02-08T01:46:10.082Z"
   },
   {
    "duration": 21,
    "start_time": "2025-02-08T01:46:10.480Z"
   },
   {
    "duration": 78,
    "start_time": "2025-02-08T01:46:10.502Z"
   },
   {
    "duration": 249,
    "start_time": "2025-02-08T01:46:10.582Z"
   },
   {
    "duration": 27,
    "start_time": "2025-02-08T01:46:10.833Z"
   },
   {
    "duration": 84,
    "start_time": "2025-02-08T01:46:10.862Z"
   },
   {
    "duration": 34,
    "start_time": "2025-02-08T01:46:10.948Z"
   },
   {
    "duration": 34,
    "start_time": "2025-02-08T01:46:10.983Z"
   },
   {
    "duration": 127,
    "start_time": "2025-02-08T01:46:11.019Z"
   },
   {
    "duration": 92,
    "start_time": "2025-02-08T01:46:11.148Z"
   },
   {
    "duration": 132,
    "start_time": "2025-02-08T01:46:11.242Z"
   },
   {
    "duration": 253,
    "start_time": "2025-02-08T01:46:11.376Z"
   },
   {
    "duration": 38,
    "start_time": "2025-02-08T01:46:11.632Z"
   },
   {
    "duration": 47,
    "start_time": "2025-02-08T01:46:11.671Z"
   },
   {
    "duration": 245,
    "start_time": "2025-02-08T01:46:11.720Z"
   },
   {
    "duration": 28,
    "start_time": "2025-02-08T01:46:11.966Z"
   },
   {
    "duration": 64,
    "start_time": "2025-02-08T01:46:11.996Z"
   }
  ],
  "kernelspec": {
   "display_name": "Python 3 (ipykernel)",
   "language": "python",
   "name": "python3"
  },
  "language_info": {
   "codemirror_mode": {
    "name": "ipython",
    "version": 3
   },
   "file_extension": ".py",
   "mimetype": "text/x-python",
   "name": "python",
   "nbconvert_exporter": "python",
   "pygments_lexer": "ipython3",
   "version": "3.9.19"
  },
  "toc": {
   "base_numbering": 1,
   "nav_menu": {},
   "number_sections": true,
   "sideBar": true,
   "skip_h1_title": true,
   "title_cell": "Table of Contents",
   "title_sidebar": "Contents",
   "toc_cell": false,
   "toc_position": {},
   "toc_section_display": true,
   "toc_window_display": false
  }
 },
 "nbformat": 4,
 "nbformat_minor": 2
}
